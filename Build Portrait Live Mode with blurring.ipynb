{
 "cells": [
  {
   "cell_type": "markdown",
   "metadata": {},
   "source": [
    "### In this project ,we will Build Portrait Live Mode with blurring\n",
    "\n",
    "#### We will go through 2 tasks to implement our project:\n",
    "\n",
    "##### Task 1: Importing libraries \n",
    "\n",
    "##### Task 2: Build Portrait Live Mode with blurring"
   ]
  },
  {
   "cell_type": "markdown",
   "metadata": {},
   "source": [
    "###### Task 1: Importing libraries "
   ]
  },
  {
   "cell_type": "code",
   "execution_count": 1,
   "metadata": {},
   "outputs": [],
   "source": [
    "\n",
    "import numpy as np \n",
    "import cv2 \n",
    "import matplotlib.pyplot as plt"
   ]
  },
  {
   "cell_type": "markdown",
   "metadata": {},
   "source": [
    "###### Task 2: Build Portrait Live Mode with blurring"
   ]
  },
  {
   "cell_type": "code",
   "execution_count": 2,
   "metadata": {},
   "outputs": [],
   "source": [
    "cap =cv2.VideoCapture(0)   # to open Camera\n",
    "while(1):\n",
    "    ret,frame = cap.read()\n",
    "    height,width= frame.shape[0],frame.shape[1]\n",
    "    mask=np.zeros_like(frame)\n",
    "    cv2.rectangle(mask,(width//3,0),((2*width//3),height),(255,255,255),-1)\n",
    "    res1= cv2.bitwise_and(frame, mask)\n",
    "    blur = cv2.blur(frame,(21,21))\n",
    "    not_mask=cv2.bitwise_not(mask)\n",
    "    res2= cv2.bitwise_and(blur,not_mask)\n",
    "    result=cv2.bitwise_or(res1, res2)\n",
    "    \n",
    "    cv2.imshow('frame',frame)\n",
    "    cv2.imshow('result',result)\n",
    "    cv2.imshow('mask',mask)\n",
    "    cv2.imshow('not_mask',not_mask)\n",
    "\n",
    "    \n",
    "\n",
    "    k = cv2.waitKey(5) & 0xFF\n",
    "    if k == 27:\n",
    "        break\n",
    "        \n",
    "        \n",
    "cv2.destroyAllWindows()\n",
    "cap.release()\n",
    "\n",
    "\n",
    "    \n"
   ]
  }
 ],
 "metadata": {
  "kernelspec": {
   "display_name": "Python 3",
   "language": "python",
   "name": "python3"
  },
  "language_info": {
   "codemirror_mode": {
    "name": "ipython",
    "version": 3
   },
   "file_extension": ".py",
   "mimetype": "text/x-python",
   "name": "python",
   "nbconvert_exporter": "python",
   "pygments_lexer": "ipython3",
   "version": "3.8.3"
  }
 },
 "nbformat": 4,
 "nbformat_minor": 4
}
